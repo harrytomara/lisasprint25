{
 "cells": [
  {
   "cell_type": "markdown",
   "metadata": {},
   "source": [
    "Generate 10 Random AAK Waveforms "
   ]
  },
  {
   "cell_type": "code",
   "execution_count": 1,
   "metadata": {},
   "outputs": [],
   "source": [
    "import sys\n",
    "import os\n",
    "\n",
    "import matplotlib.pyplot as plt\n",
    "%matplotlib inline \n",
    "import numpy as np"
   ]
  },
  {
   "cell_type": "code",
   "execution_count": null,
   "metadata": {},
   "outputs": [],
   "source": [
    "# Constants\n",
    "YRSID_SI = 31558149.763545603 \n",
    "SEC_TO_SOLAR_M = 4.925491025873693e-06 \n",
    "MPC_TO_SOLAR_M = 2.089682521268661e+19\n",
    "GPC_TO_SOLAR_M = 2.089682521268661e+22\n",
    "M_TO_SOLAR_M = 1476.6250615036158\n",
    "MPC_TO_M = 3.0856775814913674e+22\n",
    "GPC_TO_M = 3.0856775814913674e+25"
   ]
  },
  {
   "cell_type": "code",
   "execution_count": 3,
   "metadata": {},
   "outputs": [],
   "source": [
    "from few.trajectory.inspiral import EMRIInspiral\n",
    "from few.amplitude.romannet import RomanAmplitude\n",
    "from few.amplitude.interp2dcubicspline import Interp2DAmplitude\n",
    "from few.waveform import FastSchwarzschildEccentricFlux, SlowSchwarzschildEccentricFlux, GenerateEMRIWaveform\n",
    "from few.utils.utility import (get_overlap, \n",
    "                               get_mismatch, \n",
    "                               get_fundamental_frequencies, \n",
    "                               get_separatrix, \n",
    "                               get_mu_at_t, \n",
    "                               get_p_at_t, \n",
    "                               get_kerr_geo_constants_of_motion,\n",
    "                               xI_to_Y,\n",
    "                               Y_to_xI)\n",
    "\n",
    "from few.utils.ylm import GetYlms\n",
    "from few.utils.modeselector import ModeSelector\n",
    "from few.summation.interpolatedmodesum import CubicSplineInterpolant\n",
    "from few.waveform import SchwarzschildEccentricWaveformBase\n",
    "from few.summation.interpolatedmodesum import InterpolatedModeSum\n",
    "from few.summation.directmodesum import DirectModeSum\n",
    "from few.utils.constants import *\n",
    "from few.summation.aakwave import AAKSummation\n",
    "from few.waveform import Pn5AAKWaveform, AAKWaveformBase"
   ]
  },
  {
   "cell_type": "code",
   "execution_count": 7,
   "metadata": {},
   "outputs": [],
   "source": [
    "mu = np.random.uniform(low=10, high=30, size=None)\n",
    "M = np.random.uniform(low=1e5, high=1e7, size=None)\n",
    "\n",
    "a = np.random.uniform(low=0.2, high=0.998, size=None)\n",
    "p0 = np.random.uniform(low=5, high=25, size=None)\n",
    "e0 = np.random.uniform(low=0.0001, high=0.5, size=None)\n",
    "\n",
    "iota0 = np.random.uniform(low=0, high=180, size=None)\n",
    "Y0 = np.cos(iota0)\n",
    "\n",
    "dist = np.random.uniform(low=1.0, high=3.0, size=None)\n",
    "\n",
    "qS = np.random.uniform(low=0.2, high=0.4, size=None)\n",
    "phiS = np.random.uniform(low=0.2, high=0.4, size=None)\n",
    "\n",
    "qK = np.random.uniform(low=0.7, high=0.9, size=None)\n",
    "phiK = np.random.uniform(low=0.1, high=0.3, size=None)\n",
    "\n",
    "phi_phi0 = np.random.uniform(low=0, high=180, size=None)\n",
    "phi_theta0 = np.random.uniform(low=0, high=180, size=None)\n",
    "phi_r0 = np.random.uniform(low=0, high=180, size=None)\n",
    "\n",
    "dt = 15.0 # timestep in seconds\n",
    "T = 1.0 # Total time to run in years\n",
    "mich = False"
   ]
  },
  {
   "cell_type": "code",
   "execution_count": 8,
   "metadata": {},
   "outputs": [],
   "source": [
    "use_gpu = False\n",
    "\n",
    "# keyword arguments for inspiral generator (RunKerrGenericPn5Inspiral)\n",
    "inspiral_kwargs = {\n",
    "    \"DENSE_STEPPING\": 0,  # we want a sparsely sampled trajectory\n",
    "    \"max_init_len\": int(1e3),  # all of the trajectories will be well under len = 1000\n",
    "}\n",
    "\n",
    "# keyword arguments for summation generator (AAKSummation)\n",
    "sum_kwargs = {\n",
    "    \"use_gpu\": use_gpu,  # GPU is availabel for this type of summation\n",
    "    \"pad_output\": False,\n",
    "}\n",
    "\n",
    "wave_generator = Pn5AAKWaveform(inspiral_kwargs=inspiral_kwargs, sum_kwargs=sum_kwargs, use_gpu=False)\n",
    "\n",
    "\n",
    "waveform = wave_generator(M, mu, a, p0, e0, Y0, dist, qS, phiS, qK, phiK, \n",
    "                          Phi_phi0=phi_phi0, Phi_theta0=phi_theta0, Phi_r0=phi_r0, mich=mich, dt=dt, T=T)"
   ]
  },
  {
   "cell_type": "code",
   "execution_count": 6,
   "metadata": {},
   "outputs": [
    {
     "data": {
      "text/plain": [
       "[<matplotlib.lines.Line2D at 0x17e4b4680>]"
      ]
     },
     "execution_count": 6,
     "metadata": {},
     "output_type": "execute_result"
    },
    {
     "data": {
      "image/png": "[encoded data removed]",
      "text/plain": [
       "<Figure size 640x480 with 1 Axes>"
      ]
     },
     "metadata": {},
     "output_type": "display_data"
    }
   ],
   "source": [
    "t = np.arange(len(waveform)) * dt\n",
    "plt.plot(t, waveform.real)\n",
    "plt.plot(t, waveform.imag)"
   ]
  },
  {
   "cell_type": "markdown",
   "metadata": {},
   "source": [
    "Create a loop that can create and store randomly generated AAK WFs"
   ]
  },
  {
   "cell_type": "code",
   "execution_count": null,
   "metadata": {},
   "outputs": [],
   "source": [
    "it = 1\n",
    "\n",
    "for i in range(it):\n",
    "        random_seed = np.random.randint(0, 1000)\n",
    "        M = np.random.uniform(low=1e5, high=1e7, size=None)\n",
    "        mu = np.random.uniform(low=10, high=30, size=None)\n",
    "        a = np.random.uniform(low=0.1, high=0.998, size=None)\n",
    "        p0 = np.random.uniform(low=5, high=25, size=None)\n",
    "        e0 = np.random.uniform(low=0.0001, high=0.5, size=None)\n",
    "        iota0 = np.random.uniform(low=0, high=180, size=None)\n",
    "        Y0 = np.cos(iota0)\n",
    "        qS = np.random.uniform(low=0.2, high=0.4, size=None)\n",
    "        PhiS = np.random.uniform(low=0.2, high=0.4, size=None)\n",
    "        qk = np.random.uniform(low=0.7, high=0.9, size=None)\n",
    "        PhiK = np.random.uniform(low=0.1, high=0.3, size=None)\n",
    "        Phi_phi0 = np.random.uniform(low=0, high=180, size=None)\n",
    "        Phi_theta0 = np.random.uniform(low=0, high=180, size=None)\n",
    "        Phi_r0 = np.random.uniform(low=0, high=180, size=None)\n",
    "        dist = np.random.uniform(low=2, high=5, size=None) \n",
    "        dt = 15.0 \n",
    "        T = 1.0 \n",
    "        mich = False\n",
    "\n",
    "        try: \n",
    "                waveform = wave_generator(M, mu, a, p0, e0, Y0, dist, qS, phiS, qK, phiK, \n",
    "                Phi_phi0=Phi_phi0, Phi_theta0=Phi_theta0, Phi_r0=Phi_r0, mich=mich, dt=dt, T=T)\n",
    "                param_array = np.array([random_seed, M, mu, a, p0, e0, Y0, dist, qS, PhiS, qK, PhiK, Phi_phi0, Phi_theta0, Phi_r0, dt, T])\n",
    "        except ValueError:\n",
    "                continue\n",
    "        \n",
    "        time_values = [dt * t for t in range(len(waveform))]\n",
    "\n",
    "        with open(f'Stochastic_AAKwaveform_params{i}.txt', 'w') as file:\n",
    "                for line in param_array:\n",
    "                        file.write(f\"{line}\\n\") \n",
    "\n",
    "        with open(f'Stochastic_AAKwaveform{i}.txt', 'w') as file:        \n",
    "                for t, w in zip(time_values, waveform):\n",
    "                        file.write(f\"{t}, {w.real}, {w.imag}\\n\")"
   ]
  }
 ],
 "metadata": {
  "kernelspec": {
   "display_name": "emri_comp",
   "language": "python",
   "name": "python3"
  },
  "language_info": {
   "codemirror_mode": {
    "name": "ipython",
    "version": 3
   },
   "file_extension": ".py",
   "mimetype": "text/x-python",
   "name": "python",
   "nbconvert_exporter": "python",
   "pygments_lexer": "ipython3",
   "version": "3.12.8"
  }
 },
 "nbformat": 4,
 "nbformat_minor": 2
}
